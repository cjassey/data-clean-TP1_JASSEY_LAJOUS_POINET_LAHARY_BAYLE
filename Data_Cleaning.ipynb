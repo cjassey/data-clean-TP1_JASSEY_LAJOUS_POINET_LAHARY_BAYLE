{
 "cells": [
  {
   "cell_type": "code",
   "execution_count": 4,
   "id": "136bfbd3",
   "metadata": {},
   "outputs": [],
   "source": [
    "import pandas as pd\n",
    "import numpy as np"
   ]
  },
  {
   "cell_type": "code",
   "execution_count": 12,
   "id": "f1bc6b17",
   "metadata": {},
   "outputs": [
    {
     "data": {
      "text/plain": [
       "0                              avenue albert Einstein\n",
       "1                                                    \n",
       "2                                  rue Jacques-Bounin\n",
       "3                                                   -\n",
       "4              rue de Saint Hilaire 34000 Montpellier\n",
       "5                                   boulevard Sarrail\n",
       "6                                          rue durand\n",
       "7                1 place Jacques Mirouse, MONTPELLIER\n",
       "8                                 impasse des Moulins\n",
       "9                        rond-point Benjamin Franklin\n",
       "10                        Rue Pierre Gilles de Gennes\n",
       "11                                   place  Thermidor\n",
       "12    avenue du Dr Jacques Fourcade 34000 Montpellier\n",
       "13                                    rue du lavandin\n",
       "Name: adr_voie, dtype: object"
      ]
     },
     "execution_count": 12,
     "metadata": {},
     "output_type": "execute_result"
    }
   ],
   "source": [
    "df = pd.read_csv(\"data/sample_dirty.csv\", sep=\",\")\n",
    "df[\"adr_voie\"]"
   ]
  }
 ],
 "metadata": {
  "kernelspec": {
   "display_name": "Python 3 (ipykernel)",
   "language": "python",
   "name": "python3"
  },
  "language_info": {
   "codemirror_mode": {
    "name": "ipython",
    "version": 3
   },
   "file_extension": ".py",
   "mimetype": "text/x-python",
   "name": "python",
   "nbconvert_exporter": "python",
   "pygments_lexer": "ipython3",
   "version": "3.11.4"
  }
 },
 "nbformat": 4,
 "nbformat_minor": 5
}
